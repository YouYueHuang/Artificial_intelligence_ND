{
 "cells": [
  {
   "cell_type": "code",
   "execution_count": 45,
   "metadata": {},
   "outputs": [],
   "source": [
    "rows = 'ABCDEFGHI'\n",
    "cols = '123456789'\n",
    "boxes = [r + c for r in rows for c in cols]\n",
    "\n",
    "left_diagonal_units = [[\"{}{}\".format(r, c) for r, c in zip(rows, cols)]]\n",
    "right_diagonal_units = [[\"{}{}\".format(r, c) for r, c in zip(rows, cols[::-1])]]\n",
    "row_units = [cross(r, cols) for r in rows]\n",
    "column_units = [cross(rows, c) for c in cols]\n",
    "square_units = [cross(rs, cs) for rs in ('ABC','DEF','GHI') for cs in ('123','456','789')]\n",
    "unitlist = row_units + column_units + square_units# + left_diagonal_units + right_diagonal_units"
   ]
  },
  {
   "cell_type": "code",
   "execution_count": 47,
   "metadata": {},
   "outputs": [],
   "source": [
    "# TODO: Update the unit list to add the new diagonal units\n",
    "# unitlist = unitlist if left_diagonal\n",
    "\n",
    "\n",
    "# Must be called after all units (including diagonals) are added to the unitlist\n",
    "units = extract_units(unitlist, boxes)\n",
    "peers = extract_peers(units, boxes)"
   ]
  },
  {
   "cell_type": "code",
   "execution_count": 19,
   "metadata": {},
   "outputs": [],
   "source": [
    "from collections import defaultdict\n",
    "\n",
    "def extract_units(unitlist, boxes):\n",
    "    # the value for keys that aren't in the dictionary are initialized as an empty list\n",
    "    units = defaultdict(list)\n",
    "    for current_box in boxes:\n",
    "        for unit in unitlist:\n",
    "            if current_box in unit:\n",
    "                # defaultdict avoids this raising a KeyError when new keys are added\n",
    "                units[current_box].append(unit)\n",
    "    return units\n",
    "\n",
    "\n",
    "def extract_peers(units, boxes):\n",
    "    # the value for keys that aren't in the dictionary are initialized as an empty list\n",
    "    peers = defaultdict(set)  # set avoids duplicates\n",
    "    for key_box in boxes:\n",
    "        for unit in units[key_box]:\n",
    "            for peer_box in unit:\n",
    "                if peer_box != key_box:\n",
    "                    # defaultdict avoids this raising a KeyError when new keys are added\n",
    "                    peers[key_box].add(peer_box)\n",
    "    return peers"
   ]
  },
  {
   "cell_type": "code",
   "execution_count": 14,
   "metadata": {},
   "outputs": [
    {
     "data": {
      "text/plain": [
       "['A9', 'B8', 'C7', 'D6', 'E5', 'F4', 'G3', 'H2', 'I1']"
      ]
     },
     "execution_count": 14,
     "metadata": {},
     "output_type": "execute_result"
    }
   ],
   "source": [
    "row"
   ]
  },
  {
   "cell_type": "code",
   "execution_count": 8,
   "metadata": {},
   "outputs": [
    {
     "name": "stdout",
     "output_type": "stream",
     "text": [
      "4 1 7 |3 6 9 |8 2 5 \n",
      "6 3 2 |1 5 8 |9 4 7 \n",
      "9 5 8 |7 2 4 |3 1 6 \n",
      "------+------+------\n",
      "8 2 5 |4 3 7 |1 6 9 \n",
      "7 9 1 |5 8 6 |4 3 2 \n",
      "3 4 6 |9 1 2 |7 5 8 \n",
      "------+------+------\n",
      "2 8 9 |6 4 3 |5 7 1 \n",
      "5 7 3 |2 9 1 |6 8 4 \n",
      "1 6 4 |8 7 5 |2 9 3 \n"
     ]
    }
   ],
   "source": [
    "display(search(values))"
   ]
  },
  {
   "cell_type": "code",
   "execution_count": null,
   "metadata": {},
   "outputs": [],
   "source": []
  }
 ],
 "metadata": {
  "kernelspec": {
   "display_name": "Python [default]",
   "language": "python",
   "name": "python3"
  },
  "language_info": {
   "codemirror_mode": {
    "name": "ipython",
    "version": 3
   },
   "file_extension": ".py",
   "mimetype": "text/x-python",
   "name": "python",
   "nbconvert_exporter": "python",
   "pygments_lexer": "ipython3",
   "version": "3.5.4"
  },
  "nav_menu": {},
  "toc": {
   "navigate_menu": true,
   "number_sections": true,
   "sideBar": true,
   "threshold": 6,
   "toc_cell": false,
   "toc_section_display": "block",
   "toc_window_display": false
  }
 },
 "nbformat": 4,
 "nbformat_minor": 2
}
